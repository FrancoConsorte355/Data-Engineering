{
 "cells": [
  {
   "cell_type": "code",
   "execution_count": 3,
   "id": "790a9c58",
   "metadata": {},
   "outputs": [
    {
     "name": "stdout",
     "output_type": "stream",
     "text": [
      "\n",
      "    1) Registrar usuario\n",
      "    2) Listar usuarios\n",
      "    3) Buscar usuario por nombre\n",
      "    4) Eliminar usuario\n",
      "    5) Guardar y salir\n",
      "    \n",
      "❌ No se pudo registrar: Contraseña inválida: mínimo 8 caracteres, al menos una mayúscula, minúscula, dígito y símbolo.\n",
      "\n",
      "    1) Registrar usuario\n",
      "    2) Listar usuarios\n",
      "    3) Buscar usuario por nombre\n",
      "    4) Eliminar usuario\n",
      "    5) Guardar y salir\n",
      "    \n",
      "💾 Cambios guardados. ¡Hasta luego!\n"
     ]
    }
   ],
   "source": [
    "# 1. Configuración e imports\n",
    "from dotenv import load_dotenv\n",
    "load_dotenv()\n",
    "\n",
    "from src.storage import load_users, save_users\n",
    "from src.users import register_user, list_users, find_users, delete_user\n",
    "\n",
    "from colorama import init, Fore, Style\n",
    "init(autoreset=True)\n",
    "\n",
    "# 2. Carga inicial con manejo de error\n",
    "try:\n",
    "    users = load_users()\n",
    "except Exception as e:\n",
    "    print(Fore.YELLOW + f\"⚠️ Error al cargar usuarios: {e}\")\n",
    "    users = []\n",
    "\n",
    "# 3. Menú de consola\n",
    "def menu():\n",
    "    print(Style.BRIGHT + \"\"\"\n",
    "    1) Registrar usuario\n",
    "    2) Listar usuarios\n",
    "    3) Buscar usuario por nombre\n",
    "    4) Eliminar usuario\n",
    "    5) Guardar y salir\n",
    "    \"\"\")\n",
    "    return input(\"Selecciona una opción: \")\n",
    "\n",
    "while True:\n",
    "    choice = menu().strip()\n",
    "    try:\n",
    "        if choice == '1':\n",
    "            name  = input(\"Nombre: \")\n",
    "            email = input(\"Email: \")\n",
    "            pwd   = input(\"Contraseña: \")\n",
    "            # Ahora register_user levanta ValueError ante datos inválidos\n",
    "            try:\n",
    "                register_user(users, name, email, pwd)\n",
    "                print(Fore.GREEN + \"✅ Usuario registrado correctamente.\")\n",
    "            except ValueError as ve:\n",
    "                print(Fore.RED + f\"❌ No se pudo registrar: {ve}\")\n",
    "\n",
    "        elif choice == '2':\n",
    "            list_users(users)\n",
    "\n",
    "        elif choice == '3':\n",
    "            q = input(\"Nombre a buscar: \")\n",
    "            found = find_users(users, q)\n",
    "            if found:\n",
    "                list_users(found)\n",
    "            else:\n",
    "                print(Fore.CYAN + \"🔍 No se encontraron coincidencias.\")\n",
    "\n",
    "        elif choice == '4':\n",
    "            email = input(\"Email a eliminar: \")\n",
    "            if delete_user(users, email):\n",
    "                print(Fore.GREEN + \"🗑️ Usuario eliminado.\")\n",
    "            else:\n",
    "                print(Fore.RED + \"❌ No existe ese email.\")\n",
    "\n",
    "        elif choice == '5':\n",
    "            # Manejamos posibles errores de I/O al guardar\n",
    "            try:\n",
    "                save_users(users)\n",
    "                print(Fore.GREEN + \"💾 Cambios guardados. ¡Hasta luego!\")\n",
    "            except Exception as e:\n",
    "                print(Fore.RED + f\"❌ No se pudieron guardar los cambios: {e}\")\n",
    "            break\n",
    "\n",
    "        else:\n",
    "            print(Fore.YELLOW + \"⚠️ Opción no válida. Elige del 1 al 5.\")\n",
    "\n",
    "    except Exception as e:\n",
    "        # Para cualquier otro error inesperado\n",
    "        print(Fore.MAGENTA + f\"⚠️ Ocurrió un error inesperado: {e}\")\n",
    "\n",
    "\n"
   ]
  },
  {
   "cell_type": "code",
   "execution_count": 6,
   "id": "7d722dee",
   "metadata": {},
   "outputs": [
    {
     "name": "stdout",
     "output_type": "stream",
     "text": [
      "c:\\Users\\franc\\OneDrive\\Documentos\\Data Engineering\n",
      "['a.env', 'homework1', 'requirements.txt', 'storage.py', 'users.py', '__pycache__']\n"
     ]
    }
   ],
   "source": [
    "import os\n",
    "print(os.getcwd())        # carpeta actual de trabajo\n",
    "print(os.listdir())       # qué archivos ve aquí\n"
   ]
  },
  {
   "cell_type": "code",
   "execution_count": null,
   "id": "acdb0942",
   "metadata": {},
   "outputs": [
    {
     "name": "stderr",
     "output_type": "stream",
     "text": [
      "test_delete (__main__.NotebookTests.test_delete) ... ok\n",
      "test_register_and_load (__main__.NotebookTests.test_register_and_load) ... ok\n",
      "\n",
      "----------------------------------------------------------------------\n",
      "Ran 2 tests in 0.018s\n",
      "\n",
      "OK\n"
     ]
    },
    {
     "data": {
      "text/plain": [
       "<unittest.main.TestProgram at 0x1a3bfd7b850>"
      ]
     },
     "execution_count": 4,
     "metadata": {},
     "output_type": "execute_result"
    }
   ],
   "source": [
    "import unittest\n",
    "from src.users    import register_user, delete_user\n",
    "from src.storage  import load_users, save_users, DATA_FILE\n",
    "import os\n",
    "\n",
    "class NotebookTests(unittest.TestCase):\n",
    "\n",
    "    def test_register_and_load(self):\n",
    "        # Prepara\n",
    "        if os.path.exists(DATA_FILE): os.remove(DATA_FILE)\n",
    "        save_users([])\n",
    "\n",
    "        users = load_users()\n",
    "        ok = register_user(users, \"Test\", \"t@t.com\", \"Aa1!aaaa\")\n",
    "        self.assertTrue(ok)\n",
    "\n",
    "        save_users(users)\n",
    "        reloaded = load_users()\n",
    "        self.assertEqual(len(reloaded), 1)\n",
    "        self.assertEqual(reloaded[0][\"email\"], \"t@t.com\")\n",
    "\n",
    "    def test_delete(self):\n",
    "        users = [{\"name\":\"X\",\"email\":\"x@x.com\",\"password\":\"h\"}]\n",
    "        deleted = delete_user(users, \"x@x.com\")\n",
    "        self.assertTrue(deleted)\n",
    "        self.assertFalse(delete_user(users, \"x@x.com\"))\n",
    "\n",
    "# Ejecuta todos los tests definidos en este scope\n",
    "unittest.main(argv=[''], verbosity=2, exit=False)\n"
   ]
  },
  {
   "cell_type": "code",
   "execution_count": null,
   "id": "9feef882",
   "metadata": {},
   "outputs": [],
   "source": []
  }
 ],
 "metadata": {
  "kernelspec": {
   "display_name": "Python 3",
   "language": "python",
   "name": "python3"
  },
  "language_info": {
   "codemirror_mode": {
    "name": "ipython",
    "version": 3
   },
   "file_extension": ".py",
   "mimetype": "text/x-python",
   "name": "python",
   "nbconvert_exporter": "python",
   "pygments_lexer": "ipython3",
   "version": "3.11.9"
  }
 },
 "nbformat": 4,
 "nbformat_minor": 5
}
